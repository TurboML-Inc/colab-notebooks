{
 "cells": [
  {
   "cell_type": "markdown",
   "id": "0",
   "metadata": {},
   "source": [
    "# Feature Engineering - Python UDAF"
   ]
  },
  {
   "cell_type": "markdown",
   "id": "e536c389",
   "metadata": {},
   "source": [
    "Clone the repo with notebooks and corresponding data. "
   ]
  },
  {
   "cell_type": "code",
   "execution_count": null,
   "id": "11ab970c",
   "metadata": {},
   "outputs": [],
   "source": [
    "!git clone https://github.com/TurboML-Inc/colab-notebooks.git"
   ]
  },
  {
   "cell_type": "markdown",
   "id": "469a9800",
   "metadata": {},
   "source": [
    "Set up the environment and install TurboML's SDK. "
   ]
  },
  {
   "cell_type": "code",
   "execution_count": null,
   "id": "29a87b6b",
   "metadata": {},
   "outputs": [],
   "source": [
    "!pip install -q condacolab\n",
    "import condacolab\n",
    "condacolab.install()\n",
    "!bash colab-notebooks/install_turboml.sh"
   ]
  },
  {
   "cell_type": "markdown",
   "id": "ec30b1ad",
   "metadata": {},
   "source": [
    "The kernel should now be restarted with TurboML's SDK installed."
   ]
  },
  {
   "cell_type": "code",
   "execution_count": null,
   "id": "17fef5f0",
   "metadata": {},
   "outputs": [],
   "source": [
    "cd colab-notebooks"
   ]
  },
  {
   "cell_type": "markdown",
   "id": "59241be7",
   "metadata": {},
   "source": [
    "Login to your TurboML instance."
   ]
  },
  {
   "cell_type": "code",
   "execution_count": null,
   "id": "9f7b781f",
   "metadata": {},
   "outputs": [],
   "source": [
    "import pandas as pd\n",
    "import turboml as tb\n",
    "tb.init(backend_url=BACKEND_URL, api_key=API_KEY)"
   ]
  },
  {
   "cell_type": "code",
   "execution_count": null,
   "id": "2",
   "metadata": {},
   "outputs": [],
   "source": [
    "transactions = pd.read_csv(\"data/transactions.csv\")[0:100]\n",
    "transactions = tb.PandasDataset(\n",
    "    dataset_name=\"transactions_udaf\",\n",
    "    key_field=\"index\",\n",
    "    dataframe=transactions.reset_index(),\n",
    "    upload=True,\n",
    ")"
   ]
  },
  {
   "cell_type": "markdown",
   "id": "3",
   "metadata": {},
   "source": [
    "### User Defined Aggregation function\n",
    "\n",
    "To create a UDAF, you need to implement the following essential functions in a separate python file containing the function. These functions manage the lifecycle of the aggregation process, from initialization to final result computation:\n",
    "\n",
    "#### State Initialization (create_state):\n",
    "    Purpose: This function sets up the initial state for the UDAF.\n",
    "    Requirement: The state should represent the data structure that will store intermediate results (e.g., sum, count, or any other aggregated values).\n",
    "#### Accumulation (accumulate):\n",
    "    Purpose: This function updates the state with new values as they are processed.\n",
    "    Requirement: It should handle null or missing values gracefully and update the intermediate state based on the value and any additional parameters.\n",
    "#### Retraction (retract):\n",
    "    Purpose: This function \"retracts\" or removes a previously accumulated value from the state.\n",
    "    Requirement: It should reverse the effect of the accumulate function for cases where data needs to be removed (e.g., when undoing a previous operation).\n",
    "#### Merging States (merge_states):\n",
    "    Purpose: This function merges two states together.\n",
    "    Requirement: Combine the intermediate results from two states into one. This is essential for distributed aggregations.\n",
    "#### Final Result Computation (finish):\n",
    "    Purpose: This function computes the final result once all values have been accumulated.\n",
    "    Requirement: It should return the final output of the aggregation based on the state. Handle edge cases such as empty datasets (e.g., return None if no valid values were processed).\n"
   ]
  },
  {
   "cell_type": "code",
   "execution_count": null,
   "id": "4",
   "metadata": {},
   "outputs": [],
   "source": [
    "function_file_contents = open(\"udaf.py\").read()\n",
    "print(function_file_contents)"
   ]
  },
  {
   "cell_type": "code",
   "execution_count": null,
   "id": "5",
   "metadata": {},
   "outputs": [],
   "source": [
    "transactions.feature_engineering.register_timestamp(\n",
    "    column_name=\"timestamp\", format_type=\"epoch_seconds\"\n",
    ")"
   ]
  },
  {
   "cell_type": "code",
   "execution_count": null,
   "id": "6",
   "metadata": {},
   "outputs": [],
   "source": [
    "transactions.feature_engineering.create_udaf_features(\n",
    "    new_feature_name=\"weighted_avg\",\n",
    "    column_to_operate=[\"transactionAmount\", \"transactionTime\"],\n",
    "    function_name=\"weighted_avg\",\n",
    "    return_type=\"DOUBLE\",\n",
    "    function_file_contents=function_file_contents,\n",
    "    column_to_group=[\"accountID\"],\n",
    "    timestamp_column=\"timestamp\",\n",
    "    window_duration=1,\n",
    "    window_unit=\"hours\",\n",
    ")"
   ]
  },
  {
   "cell_type": "code",
   "execution_count": null,
   "id": "7",
   "metadata": {},
   "outputs": [],
   "source": [
    "transactions.feature_engineering.materialize_features([\"weighted_avg\"])"
   ]
  }
 ],
 "metadata": {
  "kernelspec": {
   "display_name": "Python 3 (ipykernel)",
   "language": "python",
   "name": "python3"
  },
  "language_info": {
   "codemirror_mode": {
    "name": "ipython",
    "version": 3
   },
   "file_extension": ".py",
   "mimetype": "text/x-python",
   "name": "python",
   "nbconvert_exporter": "python",
   "pygments_lexer": "ipython3",
   "version": "3.11.9"
  }
 },
 "nbformat": 4,
 "nbformat_minor": 5
}
