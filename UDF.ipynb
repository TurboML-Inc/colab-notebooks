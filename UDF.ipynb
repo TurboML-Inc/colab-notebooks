{
 "cells": [
  {
   "cell_type": "markdown",
   "id": "0",
   "metadata": {},
   "source": [
    "# Feature Engineering - Python UDFs"
   ]
  },
  {
   "cell_type": "markdown",
   "id": "0c11a42c",
   "metadata": {},
   "source": [
    "Clone the repo with notebooks and corresponding data. "
   ]
  },
  {
   "cell_type": "code",
   "execution_count": null,
   "id": "f40ca27c",
   "metadata": {},
   "outputs": [],
   "source": [
    "!git clone https://github.com/TurboML-Inc/colab-notebooks.git"
   ]
  },
  {
   "cell_type": "markdown",
   "id": "85be8215",
   "metadata": {},
   "source": [
    "Set up the environment and install TurboML's SDK. "
   ]
  },
  {
   "cell_type": "code",
   "execution_count": null,
   "id": "7325b148",
   "metadata": {},
   "outputs": [],
   "source": [
    "!pip install -q condacolab\n",
    "import condacolab\n",
    "condacolab.install()\n",
    "!bash colab-notebooks/install_turboml.sh"
   ]
  },
  {
   "cell_type": "markdown",
   "id": "2e018e74",
   "metadata": {},
   "source": [
    "The kernel should now be restarted with TurboML's SDK installed."
   ]
  },
  {
   "cell_type": "code",
   "execution_count": null,
   "id": "74f1d994",
   "metadata": {},
   "outputs": [],
   "source": [
    "cd colab-notebooks"
   ]
  },
  {
   "cell_type": "markdown",
   "id": "d9f04123",
   "metadata": {},
   "source": [
    "Login to your TurboML instance."
   ]
  },
  {
   "cell_type": "code",
   "execution_count": null,
   "id": "5379a451",
   "metadata": {},
   "outputs": [],
   "source": [
    "import pandas as pd\n",
    "import turboml as tb\n",
    "tb.init(backend_url=BACKEND_URL, api_key=API_KEY)"
   ]
  },
  {
   "cell_type": "code",
   "execution_count": null,
   "id": "2",
   "metadata": {},
   "outputs": [],
   "source": [
    "transactions = pd.read_csv(\"data/transactions.csv\").reset_index()\n",
    "transactions = tb.PandasDataset(\n",
    "    dataset_name=\"transactions_udf\",\n",
    "    key_field=\"index\",\n",
    "    dataframe=transactions,\n",
    "    upload=True,\n",
    ")"
   ]
  },
  {
   "cell_type": "markdown",
   "id": "3",
   "metadata": {},
   "source": [
    "### Simple User Defined function\n",
    "\n",
    "For creating a user defined function first create a separate python file containing the function along with the imports used by it; the function should process the data and return a value. In the below example we have shown a simple example of a function that takes a value and then returns its sine value."
   ]
  },
  {
   "cell_type": "code",
   "execution_count": null,
   "id": "4",
   "metadata": {},
   "outputs": [],
   "source": [
    "myfunction_contents = open(\"udf_sine_of_amount.py\").read()\n",
    "print(myfunction_contents)"
   ]
  },
  {
   "cell_type": "markdown",
   "id": "5",
   "metadata": {},
   "source": [
    "### User Defined Functions - Multiple Input example\n",
    "\n",
    "We saw that the above user defined function is very simple. We can also create a more complicated function with multiple inputs, we can perform string processing etc "
   ]
  },
  {
   "cell_type": "code",
   "execution_count": null,
   "id": "6",
   "metadata": {},
   "outputs": [],
   "source": [
    "my_complex_function_contents = open(\"udf_transaction_location_overlap.py\").read()\n",
    "print(my_complex_function_contents)"
   ]
  },
  {
   "cell_type": "markdown",
   "id": "7",
   "metadata": {},
   "source": [
    "### Rich User Defined Functions"
   ]
  },
  {
   "cell_type": "code",
   "execution_count": null,
   "id": "8",
   "metadata": {},
   "outputs": [],
   "source": [
    "%pip install psycopg_pool psycopg['binary'] psycopg2-binary"
   ]
  },
  {
   "cell_type": "code",
   "execution_count": null,
   "id": "9",
   "metadata": {},
   "outputs": [],
   "source": [
    "my_rich_function_contents = open(\"rich_udf.py\").read()\n",
    "print(my_rich_function_contents)"
   ]
  },
  {
   "cell_type": "markdown",
   "id": "10",
   "metadata": {},
   "source": [
    "We can create a rich UDF and materialize it.\n",
    "\n",
    "```python\n",
    "transactions.feature_engineering.create_rich_udf_features(\n",
    "    new_feature_name=\"lookup_feature\",\n",
    "    argument_names=[\"index\"],\n",
    "    function_name=\"lookup\",\n",
    "    class_file_contents=my_rich_function_contents,\n",
    "    libraries=[\"psycopg_pool\", \"psycopg[binary]\", \"psycopg2-binary\"],\n",
    "    class_name=\"PostgresLookup\",\n",
    "    dev_initializer_arguments=[\"reader\", \"NWDMCE5xdipIjRrp\", \"hh-pgsql-public.ebi.ac.uk\", \"5432\", \"pfmegrnargs\"],\n",
    "    prod_initializer_arguments=[\"reader\", \"NWDMCE5xdipIjRrp\", \"hh-pgsql-public.ebi.ac.uk\", \"5432\", \"pfmegrnargs\"],\n",
    ")\n",
    "\n",
    "transactions.feature_engineering.materialize_features([\"lookup_feature\"])\n",
    "```"
   ]
  },
  {
   "cell_type": "markdown",
   "id": "11",
   "metadata": {},
   "source": [
    "## Feature Engineering using User Defined Functions (UDF)"
   ]
  },
  {
   "cell_type": "markdown",
   "id": "12",
   "metadata": {},
   "source": [
    "Make sure the libraries that are specified are pip installable and hence named appropriately, for example, if the UDF uses a sklearn function, then the library to be installed should be \"scikit-learn\" (and not \"sklearn\")"
   ]
  },
  {
   "cell_type": "code",
   "execution_count": null,
   "id": "13",
   "metadata": {},
   "outputs": [],
   "source": [
    "transactions.feature_engineering.create_udf_features(\n",
    "    new_feature_name=\"sine_of_amount\",\n",
    "    argument_names=[\"transactionAmount\"],\n",
    "    function_name=\"myfunction\",\n",
    "    function_file_contents=myfunction_contents,\n",
    "    libraries=[\"numpy\"],\n",
    ")"
   ]
  },
  {
   "cell_type": "code",
   "execution_count": null,
   "id": "14",
   "metadata": {},
   "outputs": [],
   "source": [
    "transactions.feature_engineering.create_udf_features(\n",
    "    new_feature_name=\"transaction_location_overlap\",\n",
    "    argument_names=[\"ipCountryCode\", \"paymentBillingCountryCode\"],\n",
    "    function_name=\"my_complex_function\",\n",
    "    function_file_contents=my_complex_function_contents,\n",
    "    libraries=[],\n",
    ")"
   ]
  },
  {
   "cell_type": "code",
   "execution_count": null,
   "id": "15",
   "metadata": {},
   "outputs": [],
   "source": [
    "transactions.feature_engineering.get_local_features()"
   ]
  },
  {
   "cell_type": "code",
   "execution_count": null,
   "id": "16",
   "metadata": {},
   "outputs": [],
   "source": [
    "transactions.feature_engineering.materialize_features(\n",
    "    [\"sine_of_amount\", \"transaction_location_overlap\"]\n",
    ")"
   ]
  },
  {
   "cell_type": "code",
   "execution_count": null,
   "id": "17",
   "metadata": {},
   "outputs": [],
   "source": [
    "transactions.feature_engineering.get_materialized_features()"
   ]
  },
  {
   "cell_type": "code",
   "execution_count": null,
   "id": "18",
   "metadata": {},
   "outputs": [],
   "source": []
  }
 ],
 "metadata": {
  "kernelspec": {
   "display_name": "Python 3 (ipykernel)",
   "language": "python",
   "name": "python3"
  },
  "language_info": {
   "codemirror_mode": {
    "name": "ipython",
    "version": 3
   },
   "file_extension": ".py",
   "mimetype": "text/x-python",
   "name": "python",
   "nbconvert_exporter": "python",
   "pygments_lexer": "ipython3",
   "version": "3.11.9"
  }
 },
 "nbformat": 4,
 "nbformat_minor": 5
}
