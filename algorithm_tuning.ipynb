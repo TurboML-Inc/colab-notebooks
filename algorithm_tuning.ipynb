{
 "cells": [
  {
   "cell_type": "markdown",
   "id": "0",
   "metadata": {},
   "source": [
    "# Algorithm Tuning\n",
    "\n",
    "Algorithm Tuning allows us to test different models on a given dataset, and helps to figure out which particular model gives the highest value of a user-defined performance metric on that particular dataset."
   ]
  },
  {
   "cell_type": "markdown",
   "id": "f9113ca8",
   "metadata": {},
   "source": [
    "Clone the repo with notebooks and corresponding data. "
   ]
  },
  {
   "cell_type": "code",
   "execution_count": null,
   "id": "1ce9a76d",
   "metadata": {},
   "outputs": [],
   "source": [
    "!git clone https://github.com/TurboML-Inc/colab-notebooks.git"
   ]
  },
  {
   "cell_type": "markdown",
   "id": "a21fb944",
   "metadata": {},
   "source": [
    "Set up the environment and install TurboML's SDK. "
   ]
  },
  {
   "cell_type": "code",
   "execution_count": null,
   "id": "74ff43d0",
   "metadata": {},
   "outputs": [],
   "source": [
    "!pip install -q condacolab\n",
    "import condacolab\n",
    "condacolab.install()\n",
    "!bash colab-notebooks/install_turboml.sh"
   ]
  },
  {
   "cell_type": "markdown",
   "id": "949522ac",
   "metadata": {},
   "source": [
    "The kernel should now be restarted with TurboML's SDK installed."
   ]
  },
  {
   "cell_type": "code",
   "execution_count": null,
   "id": "9a17d198",
   "metadata": {},
   "outputs": [],
   "source": [
    "cd colab-notebooks"
   ]
  },
  {
   "cell_type": "markdown",
   "id": "483c3e10",
   "metadata": {},
   "source": [
    "Login to your TurboML instance."
   ]
  },
  {
   "cell_type": "code",
   "execution_count": null,
   "id": "c125dc71",
   "metadata": {},
   "outputs": [],
   "source": [
    "import pandas as pd\n",
    "import turboml as tb\n",
    "tb.init(backend_url=BACKEND_URL, api_key=API_KEY)\n",
    "from sklearn import metrics"
   ]
  },
  {
   "cell_type": "markdown",
   "id": "1",
   "metadata": {},
   "source": [
    "Importing the necessary modules and reading the dataset."
   ]
  },
  {
   "cell_type": "code",
   "execution_count": null,
   "id": "3",
   "metadata": {},
   "outputs": [],
   "source": [
    "transactions_df = pd.read_csv(\"data/transactions.csv\").reset_index()\n",
    "labels_df = pd.read_csv(\"data/labels.csv\").reset_index()"
   ]
  },
  {
   "cell_type": "markdown",
   "id": "4",
   "metadata": {},
   "source": [
    "## Dataset\n",
    "\n",
    "We use the `PandasDataset` class to create a dataset to be used for tuning, and also configure the dataset to indicate the column with the primary key.\n",
    "\n",
    "For this example, we use the first 100k rows."
   ]
  },
  {
   "cell_type": "code",
   "execution_count": null,
   "id": "5",
   "metadata": {},
   "outputs": [],
   "source": [
    "transactions_100k = tb.PandasDataset(\n",
    "    dataframe=transactions_df[:100000], key_field=\"index\", streaming=False\n",
    ")\n",
    "labels_100k = tb.PandasDataset(\n",
    "    dataframe=labels_df[:100000], key_field=\"index\", streaming=False\n",
    ")"
   ]
  },
  {
   "cell_type": "code",
   "execution_count": null,
   "id": "6",
   "metadata": {},
   "outputs": [],
   "source": [
    "numerical_fields = [\n",
    "    \"transactionAmount\",\n",
    "]\n",
    "categorical_fields = [\"digitalItemCount\", \"physicalItemCount\", \"isProxyIP\"]\n",
    "inputs = transactions_100k.get_input_fields(\n",
    "    numerical_fields=numerical_fields, categorical_fields=categorical_fields\n",
    ")\n",
    "label = labels_100k.get_label_field(label_field=\"is_fraud\")"
   ]
  },
  {
   "cell_type": "markdown",
   "id": "7",
   "metadata": {},
   "source": [
    "## Training/Tuning\n",
    "\n",
    "We will be comparing the `Neural Network` and `Hoeffding Tree Classifier`, and the metric we will be optimizing is `accuracy`."
   ]
  },
  {
   "cell_type": "markdown",
   "id": "8",
   "metadata": {},
   "source": [
    "Configuring the NN according to the dataset."
   ]
  },
  {
   "cell_type": "code",
   "execution_count": null,
   "id": "9",
   "metadata": {},
   "outputs": [],
   "source": [
    "new_layer = tb.NNLayer(output_size=2)\n",
    "\n",
    "nn = tb.NeuralNetwork()\n",
    "nn.layers.append(new_layer)"
   ]
  },
  {
   "cell_type": "markdown",
   "id": "10",
   "metadata": {},
   "source": [
    "The `algorithm_tuning` function takes in the models being tested as a list along with the metric to test against, and returns an object for the model which had the highest score for the given metric."
   ]
  },
  {
   "cell_type": "code",
   "execution_count": null,
   "id": "11",
   "metadata": {},
   "outputs": [],
   "source": [
    "model_score_list = tb.algorithm_tuning(\n",
    "    models_to_test=[\n",
    "        tb.HoeffdingTreeClassifier(n_classes=2),\n",
    "        nn,\n",
    "    ],\n",
    "    metric_to_optimize=\"accuracy\",\n",
    "    input=inputs,\n",
    "    labels=label,\n",
    ")\n",
    "best_model, best_score = model_score_list[0]\n",
    "best_model"
   ]
  },
  {
   "cell_type": "markdown",
   "id": "12",
   "metadata": {},
   "source": [
    "# Testing\n",
    "\n",
    "After finding out the best performing model, we can use it normally for inference on the entire dataset and testing on more performance metrics."
   ]
  },
  {
   "cell_type": "code",
   "execution_count": null,
   "id": "13",
   "metadata": {},
   "outputs": [],
   "source": [
    "transactions_full = tb.PandasDataset(\n",
    "    dataframe=transactions_df, key_field=\"index\", streaming=False\n",
    ")\n",
    "features = transactions_full.get_input_fields(\n",
    "    numerical_fields=numerical_fields, categorical_fields=categorical_fields\n",
    ")\n",
    "\n",
    "outputs = best_model.predict(features)"
   ]
  },
  {
   "cell_type": "code",
   "execution_count": null,
   "id": "14",
   "metadata": {},
   "outputs": [],
   "source": [
    "print(\n",
    "    \"Accuracy: \",\n",
    "    metrics.accuracy_score(labels_df[\"is_fraud\"], outputs[\"predicted_class\"]),\n",
    ")\n",
    "print(\"F1: \", metrics.f1_score(labels_df[\"is_fraud\"], outputs[\"predicted_class\"]))"
   ]
  }
 ],
 "metadata": {
  "kernelspec": {
   "display_name": "Python 3 (ipykernel)",
   "language": "python",
   "name": "python3"
  },
  "language_info": {
   "codemirror_mode": {
    "name": "ipython",
    "version": 3
   },
   "file_extension": ".py",
   "mimetype": "text/x-python",
   "name": "python",
   "nbconvert_exporter": "python",
   "pygments_lexer": "ipython3",
   "version": "3.11.9"
  }
 },
 "nbformat": 4,
 "nbformat_minor": 5
}
