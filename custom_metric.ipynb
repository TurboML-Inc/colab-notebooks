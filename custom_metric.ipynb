{
 "cells": [
  {
   "cell_type": "markdown",
   "id": "0",
   "metadata": {},
   "source": [
    "# Custom Evaluation Metric"
   ]
  },
  {
   "cell_type": "markdown",
   "id": "7b81e568",
   "metadata": {},
   "source": [
    "Set up the environment and install TurboML's SDK. "
   ]
  },
  {
   "cell_type": "code",
   "execution_count": null,
   "id": "67ddf6cb",
   "metadata": {},
   "outputs": [],
   "source": [
    "!pip install -q condacolab\n",
    "import condacolab\n",
    "condacolab.install()\n",
    "! conda install -qq conda-forge::libstdcxx-ng anaconda::protobuf\n",
    "! gdown -q 1UG8cmBLdYtEVJZG8Rgz454l722VAt_zE\n",
    "! unzip -qq turboml.zip -d turboml && pip install -qq turboml/*.whl && rm -rf turboml turboml.zip"
   ]
  },
  {
   "cell_type": "markdown",
   "id": "72e1c623",
   "metadata": {},
   "source": [
    "Login to your TurboML instance."
   ]
  },
  {
   "cell_type": "code",
   "execution_count": null,
   "id": "2098d5ea",
   "metadata": {},
   "outputs": [],
   "source": [
    "import pandas as pd\n",
    "import turboml as tb\n",
    "tb.init(backend_url=BACKEND_URL, api_key=API_KEY)"
   ]
  },
  {
   "cell_type": "code",
   "execution_count": null,
   "id": "1",
   "metadata": {},
   "outputs": [],
   "source": [
    "from turboml.common import ModelMetricAggregateFunction\n",
    "import math"
   ]
  },
  {
   "cell_type": "markdown",
   "id": "2",
   "metadata": {},
   "source": [
    "### Model Metric Aggregation function\n",
    "\n",
    "Metric aggregate functions are used to add and compute any custom metric over model predictions and labels.\n",
    "\n",
    "#### Overview of Metric Aggregate Functions\n",
    "A metric aggregate function consists of the following lifecycle methods:\n",
    "\n",
    "1. ```create_state()```: Initializes the aggregation state.\n",
    "2. ```accumulate(state, prediction, label)```: Updates the state based on input values.\n",
    "3. ```retract(state, prediction, label) (optional)```: Reverses the effect of previously accumulated values (useful in sliding windows or similar contexts).\n",
    "4. ```merge_states(state1, state2)```: Merges two states (for distributed computation).\n",
    "5. ```finish(state)```: Computes and returns the final metric value."
   ]
  },
  {
   "cell_type": "markdown",
   "id": "3",
   "metadata": {},
   "source": [
    "### Steps to Define a Metric Aggregate Function\n",
    "\n",
    "**1. Define a Subclass**\n",
    "\n",
    "Create a subclass of ```ModelMetricAggregateFunction``` and override its methods.\n",
    "\n",
    "**2. Implement Required Methods**\n",
    "\n",
    "At a minimum, one needs to implement:\n",
    "\n",
    "- create_state\n",
    "- accumulate\n",
    "- finish\n",
    "- merge_states"
   ]
  },
  {
   "cell_type": "markdown",
   "id": "4",
   "metadata": {},
   "source": [
    "### Example: Focal Loss Metric\n",
    "Here’s an example of a custom focal loss metric function."
   ]
  },
  {
   "cell_type": "code",
   "execution_count": null,
   "id": "5",
   "metadata": {},
   "outputs": [],
   "source": [
    "class FocalLoss(ModelMetricAggregateFunction):\n",
    "    def __init__(self):\n",
    "        super().__init__()\n",
    "\n",
    "    def create_state(self):\n",
    "        \"\"\"\n",
    "        Initialize the aggregation state.\n",
    "        Returns:\n",
    "            Any: A serializable object representing the initial state of the metric.\n",
    "            This can be a tuple, dictionary, or any other serializable data structure.\n",
    "            Note:\n",
    "                - The serialized size of the state should be less than 8MB to ensure\n",
    "                  compatibility with distributed systems and to avoid exceeding storage\n",
    "                  or transmission limits.\n",
    "                - Ensure the state is lightweight and efficiently encodable for optimal\n",
    "                  performance.\n",
    "        \"\"\"\n",
    "        return (0.0, 0)\n",
    "\n",
    "    def _compute_focal_loss(self, prediction, label, gamma=2.0, alpha=0.25):\n",
    "        if prediction is None or label is None:\n",
    "            return None\n",
    "        pt = prediction if label == 1 else 1 - prediction\n",
    "        pt = max(min(pt, 1 - 1e-6), 1e-6)\n",
    "        return -alpha * ((1 - pt) ** gamma) * math.log(pt)\n",
    "\n",
    "    def accumulate(self, state, prediction, label):\n",
    "        \"\"\"\n",
    "        Update the state with a new prediction-target pair.\n",
    "        Args:\n",
    "            state (Any): The current aggregation state.\n",
    "            prediction (float): Predicted value.\n",
    "            label (float): Ground truth.\n",
    "        Returns:\n",
    "            Any: The updated aggregation state, maintaining the same format and requirements as `create_state`.\n",
    "        \"\"\"\n",
    "        loss_sum, weight_sum = state\n",
    "        focal_loss = self._compute_focal_loss(prediction, label)\n",
    "        if focal_loss is None:\n",
    "            return state\n",
    "        return loss_sum + focal_loss, weight_sum + 1\n",
    "\n",
    "    def finish(self, state):\n",
    "        \"\"\"\n",
    "        Compute the final metric value.\n",
    "        Args:\n",
    "            state (Any): Final state.\n",
    "        Returns:\n",
    "            float: The result.\n",
    "        \"\"\"\n",
    "        loss_sum, weight_sum = state\n",
    "        return 0 if weight_sum == 0 else loss_sum / weight_sum\n",
    "\n",
    "    def merge_states(self, state1, state2):\n",
    "        \"\"\"\n",
    "        Merge two states (for distributed computations).\n",
    "        Args:\n",
    "            state1 (Any): The first aggregation state.\n",
    "            state2 (Any): The second aggregation state.\n",
    "\n",
    "        Returns:\n",
    "            tuple: Merged state, maintaining the same format and requirements as `create_state`.\n",
    "        \"\"\"\n",
    "        loss_sum1, weight_sum1 = state1\n",
    "        loss_sum2, weight_sum2 = state2\n",
    "        return loss_sum1 + loss_sum2, weight_sum1 + weight_sum2"
   ]
  },
  {
   "cell_type": "markdown",
   "id": "6",
   "metadata": {},
   "source": [
    "### Guidelines for Implementation\n",
    "1. State Management:\n",
    "    - Ensure the state is serializable and the serialized size of the state should be less than 8MB\n",
    "2. Edge Cases:\n",
    "    - Handle cases where inputs might be None.\n",
    "    - Ensure finish() handles empty states gracefully."
   ]
  },
  {
   "cell_type": "markdown",
   "id": "7",
   "metadata": {},
   "source": [
    "We will create one model to test the metric. Please follow the quickstart doc for details."
   ]
  },
  {
   "cell_type": "code",
   "execution_count": null,
   "id": "8",
   "metadata": {},
   "outputs": [],
   "source": [
    "transactions_df = pd.read_csv(\"data/transactions.csv\")\n",
    "labels_df = pd.read_csv(\"data/labels.csv\")\n",
    "\n",
    "transactions_df = transactions_df.reset_index()\n",
    "labels_df = labels_df.reset_index()\n",
    "\n",
    "transactions = tb.PandasDataset(\n",
    "    dataset_name=\"transactions_custom_metric\",\n",
    "    key_field=\"index\",\n",
    "    dataframe=transactions_df,\n",
    "    upload=True,\n",
    ")\n",
    "labels = tb.PandasDataset(\n",
    "    dataset_name=\"transaction_labels_custom_metric\",\n",
    "    key_field=\"index\",\n",
    "    dataframe=labels_df,\n",
    "    upload=True,\n",
    ")"
   ]
  },
  {
   "cell_type": "code",
   "execution_count": null,
   "id": "9",
   "metadata": {},
   "outputs": [],
   "source": [
    "model = tb.HoeffdingTreeClassifier(n_classes=2)"
   ]
  },
  {
   "cell_type": "code",
   "execution_count": null,
   "id": "10",
   "metadata": {},
   "outputs": [],
   "source": [
    "numerical_fields = [\n",
    "    \"transactionAmount\",\n",
    "    \"localHour\",\n",
    "]\n",
    "features = transactions.get_input_fields(numerical_fields=numerical_fields)\n",
    "label = labels.get_label_field(label_field=\"is_fraud\")"
   ]
  },
  {
   "cell_type": "code",
   "execution_count": null,
   "id": "11",
   "metadata": {},
   "outputs": [],
   "source": [
    "deployed_model_hft = model.deploy(name=\"demo_model_hft\", input=features, labels=label)"
   ]
  },
  {
   "cell_type": "code",
   "execution_count": null,
   "id": "12",
   "metadata": {},
   "outputs": [],
   "source": [
    "outputs = deployed_model_hft.get_outputs()"
   ]
  },
  {
   "cell_type": "markdown",
   "id": "13",
   "metadata": {},
   "source": [
    "We can register a metric and get evaluations"
   ]
  },
  {
   "cell_type": "code",
   "execution_count": null,
   "id": "14",
   "metadata": {},
   "outputs": [],
   "source": [
    "tb.register_custom_metric(\"FocalLoss\", FocalLoss)"
   ]
  },
  {
   "cell_type": "code",
   "execution_count": null,
   "id": "15",
   "metadata": {},
   "outputs": [],
   "source": [
    "model_scores = deployed_model_hft.get_evaluation(\"FocalLoss\")\n",
    "model_scores[-1]"
   ]
  },
  {
   "cell_type": "code",
   "execution_count": null,
   "id": "16",
   "metadata": {},
   "outputs": [],
   "source": [
    "import matplotlib.pyplot as plt\n",
    "\n",
    "plt.plot([model_score.metric for model_score in model_scores])"
   ]
  },
  {
   "cell_type": "code",
   "execution_count": null,
   "id": "17",
   "metadata": {},
   "outputs": [],
   "source": []
  }
 ],
 "metadata": {
  "kernelspec": {
   "display_name": "Python 3 (ipykernel)",
   "language": "python",
   "name": "python3"
  },
  "language_info": {
   "codemirror_mode": {
    "name": "ipython",
    "version": 3
   },
   "file_extension": ".py",
   "mimetype": "text/x-python",
   "name": "python",
   "nbconvert_exporter": "python",
   "pygments_lexer": "ipython3",
   "version": "3.11.9"
  }
 },
 "nbformat": 4,
 "nbformat_minor": 5
}
