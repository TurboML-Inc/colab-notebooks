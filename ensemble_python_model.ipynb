{
 "cells": [
  {
   "cell_type": "markdown",
   "id": "0",
   "metadata": {},
   "source": [
    "# Ensembling Custom Python Models in TurboML\n",
    "TurboML allows you to create custom ensemble models using Python classes, leveraging the flexibility of Python while benefiting from TurboML's performance and scalability. In this notebook, we'll walk through how to create a custom ensemble model using TurboML's PythonEnsembleModel interface."
   ]
  },
  {
   "cell_type": "markdown",
   "id": "1",
   "metadata": {},
   "source": [
    "## Imports and Utilities\n",
    "We'll start by importing the necessary libraries and modules."
   ]
  },
  {
   "cell_type": "markdown",
   "id": "46dd670d",
   "metadata": {},
   "source": [
    "Clone the repo with notebooks and corresponding data. "
   ]
  },
  {
   "cell_type": "code",
   "execution_count": null,
   "id": "3b970839",
   "metadata": {},
   "outputs": [],
   "source": [
    "!git clone https://github.com/TurboML-Inc/colab-notebooks.git"
   ]
  },
  {
   "cell_type": "markdown",
   "id": "6d608286",
   "metadata": {},
   "source": [
    "Set up the environment and install TurboML's SDK. "
   ]
  },
  {
   "cell_type": "code",
   "execution_count": null,
   "id": "68b41127",
   "metadata": {},
   "outputs": [],
   "source": [
    "!pip install -q condacolab\n",
    "import condacolab\n",
    "condacolab.install()\n",
    "!bash colab-notebooks/install_turboml.sh"
   ]
  },
  {
   "cell_type": "markdown",
   "id": "dbfbda0c",
   "metadata": {},
   "source": [
    "The kernel should now be restarted with TurboML's SDK installed."
   ]
  },
  {
   "cell_type": "code",
   "execution_count": null,
   "id": "1a2b808b",
   "metadata": {},
   "outputs": [],
   "source": [
    "cd colab-notebooks"
   ]
  },
  {
   "cell_type": "markdown",
   "id": "63c6f862",
   "metadata": {},
   "source": [
    "Login to your TurboML instance."
   ]
  },
  {
   "cell_type": "code",
   "execution_count": null,
   "id": "672f9f0f",
   "metadata": {},
   "outputs": [],
   "source": [
    "import pandas as pd\n",
    "import turboml as tb\n",
    "tb.init(backend_url=BACKEND_URL, api_key=API_KEY)"
   ]
  },
  {
   "cell_type": "code",
   "execution_count": null,
   "id": "2",
   "metadata": {},
   "outputs": [],
   "source": [
    "from river import datasets\n",
    "import turboml.common.pytypes as types\n",
    "import turboml.common.pymodel as model\n",
    "import logging\n",
    "from typing import List\n",
    "import matplotlib.pyplot as plt"
   ]
  },
  {
   "cell_type": "markdown",
   "id": "3",
   "metadata": {},
   "source": [
    "## Prepare an Evaluation Dataset\n",
    "\n",
    "We choose standard Credit Card Fraud dataset that ships with River to evaluate our models on."
   ]
  },
  {
   "cell_type": "code",
   "execution_count": null,
   "id": "4",
   "metadata": {},
   "outputs": [],
   "source": [
    "dataset = datasets.CreditCard()\n",
    "dataset"
   ]
  },
  {
   "cell_type": "code",
   "execution_count": null,
   "id": "5",
   "metadata": {},
   "outputs": [],
   "source": [
    "sample, score = next(iter(dataset))\n",
    "sample"
   ]
  },
  {
   "cell_type": "code",
   "execution_count": null,
   "id": "6",
   "metadata": {},
   "outputs": [],
   "source": [
    "# Extract samples and labels\n",
    "sample_inputs = []\n",
    "sample_labels = []\n",
    "\n",
    "for sample, score in dataset:\n",
    "    sample_inputs.append(sample)\n",
    "    sample_labels.append({\"score\": score})\n",
    "\n",
    "# Convert to DataFrames\n",
    "df_features = pd.DataFrame.from_dict(sample_inputs)\n",
    "df_labels = pd.DataFrame.from_dict(sample_labels)\n",
    "\n",
    "# Drop the 'Time' column as we won't use it\n",
    "df_features = df_features.drop([\"Time\"], axis=1)"
   ]
  },
  {
   "cell_type": "markdown",
   "id": "7",
   "metadata": {},
   "source": [
    "## Load Datasets into TurboML\n",
    "We'll load the features and labels into TurboML PandasDataset objects."
   ]
  },
  {
   "cell_type": "code",
   "execution_count": null,
   "id": "8",
   "metadata": {},
   "outputs": [],
   "source": [
    "try:\n",
    "    features = tb.PandasDataset(\n",
    "        dataset_name=\"cc_feats_ensemble\",\n",
    "        key_field=\"index\",\n",
    "        dataframe=df_features.reset_index(),\n",
    "        upload=True,\n",
    "    )\n",
    "except:\n",
    "    features = tb.PandasDataset(dataset_name=\"cc_feats_ensemble\")\n",
    "\n",
    "try:\n",
    "    labels = tb.PandasDataset(\n",
    "        dataset_name=\"cc_labels_ensemble\",\n",
    "        key_field=\"index\",\n",
    "        dataframe=df_labels.reset_index(),\n",
    "        upload=True,\n",
    "    )\n",
    "except:\n",
    "    labels = tb.PandasDataset(dataset_name=\"cc_labels_ensemble\")"
   ]
  },
  {
   "cell_type": "markdown",
   "id": "9",
   "metadata": {},
   "source": [
    "## Isolate features"
   ]
  },
  {
   "cell_type": "code",
   "execution_count": null,
   "id": "10",
   "metadata": {},
   "outputs": [],
   "source": [
    "numerical_cols = df_features.columns.tolist()\n",
    "input_features = features.get_input_fields(numerical_fields=numerical_cols)\n",
    "label = labels.get_label_field(label_field=\"score\")"
   ]
  },
  {
   "cell_type": "markdown",
   "id": "11",
   "metadata": {},
   "source": [
    "## Structure of Ensemble Models\n",
    "\n",
    "A custom ensemble model in TurboML must implement three instance methods:\n",
    "\n",
    "- `init_imports`: Import any external modules used in the class.\n",
    "- `learn_one`: Receive labeled data for the model to learn from.\n",
    "- `predict_one`: Receive input features for prediction and output the result.\n",
    "Here's the general structure:\n",
    "\n",
    "```python\n",
    "class CustomEnsembleModel:\n",
    "    def __init__(self, base_models: List[types.Model]):\n",
    "        # Ensure at least one base model is provided\n",
    "        if not base_models:\n",
    "            raise ValueError(\"PythonEnsembleModel requires at least one base model.\")\n",
    "        self.base_models = base_models\n",
    "\n",
    "    def init_imports(self):\n",
    "        \"\"\"\n",
    "        Import any external symbols/modules used in this class\n",
    "        \"\"\"\n",
    "        pass\n",
    "\n",
    "    def learn_one(self, input: types.InputData):\n",
    "        \"\"\"\n",
    "        Receives labelled data for the model to learn from\n",
    "        \"\"\"\n",
    "        pass\n",
    "\n",
    "    def predict_one(self, input: types.InputData, output: types.OutputData):\n",
    "        \"\"\"\n",
    "        Receives input features for a prediction, must pass output to the\n",
    "        output object\n",
    "        \"\"\"\n",
    "        pass\n",
    "```\n"
   ]
  },
  {
   "cell_type": "markdown",
   "id": "12",
   "metadata": {},
   "source": [
    "# Example - Creating a Custom Ensemble Model\n",
    "We'll create a custom ensemble model that averages the predictions of its base models."
   ]
  },
  {
   "cell_type": "code",
   "execution_count": null,
   "id": "13",
   "metadata": {},
   "outputs": [],
   "source": [
    "class MyEnsembleModel:\n",
    "    def __init__(self, base_models: List[model.Model]):\n",
    "        if not base_models:\n",
    "            raise ValueError(\"PythonEnsembleModel requires at least one base model.\")\n",
    "        self.base_models = base_models\n",
    "        self.logger = logging.getLogger(__name__)\n",
    "\n",
    "    def init_imports(self):\n",
    "        pass\n",
    "\n",
    "    def learn_one(self, input: types.InputData):\n",
    "        try:\n",
    "            for model in self.base_models:\n",
    "                model.learn_one(input)\n",
    "        except Exception as e:\n",
    "            self.logger.exception(f\"Exception in learn_one: {e}\")\n",
    "\n",
    "    def predict_one(self, input: types.InputData, output: types.OutputData):\n",
    "        try:\n",
    "            total_score = 0.0\n",
    "            for model in self.base_models:\n",
    "                model_output = model.predict_one(input)\n",
    "                model_score = model_output.score()\n",
    "                total_score += model_score\n",
    "            average_score = total_score / len(self.base_models)\n",
    "            output.set_score(average_score)\n",
    "        except Exception as e:\n",
    "            self.logger.exception(f\"Exception in predict_one: {e}\")"
   ]
  },
  {
   "cell_type": "markdown",
   "id": "14",
   "metadata": {},
   "source": [
    "## Set Up the Virtual Environment\n",
    "We'll set up a virtual environment and add our custom ensemble class to it. Since our class requires arguments in the constructor, we'll disable validation when adding it."
   ]
  },
  {
   "cell_type": "code",
   "execution_count": null,
   "id": "15",
   "metadata": {},
   "outputs": [],
   "source": [
    "# Set up the virtual environment\n",
    "venv_name = \"my_ensemble_venv\"\n",
    "venv = tb.setup_venv(venv_name, [\"river\"])\n",
    "\n",
    "# Add the ensemble class without validation\n",
    "venv.add_python_class(MyEnsembleModel, do_validate_as_model=False)"
   ]
  },
  {
   "cell_type": "markdown",
   "id": "16",
   "metadata": {},
   "source": [
    "# Create Base Models\n",
    "We'll use TurboML's built-in models as base models for our ensemble."
   ]
  },
  {
   "cell_type": "code",
   "execution_count": null,
   "id": "17",
   "metadata": {},
   "outputs": [],
   "source": [
    "# Create individual base models\n",
    "model1 = tb.HoeffdingTreeClassifier(n_classes=2)\n",
    "model2 = tb.AMFClassifier(n_classes=2)"
   ]
  },
  {
   "cell_type": "code",
   "execution_count": null,
   "id": "18",
   "metadata": {},
   "outputs": [],
   "source": [
    "# Create the PythonEnsembleModel\n",
    "ensemble_model = tb.PythonEnsembleModel(\n",
    "    base_models=[model1, model2],\n",
    "    module_name=\"\",\n",
    "    class_name=\"MyEnsembleModel\",\n",
    "    venv_name=venv_name,\n",
    ")"
   ]
  },
  {
   "cell_type": "markdown",
   "id": "19",
   "metadata": {},
   "source": [
    "## Deploy the Ensemble Model\n",
    "We'll deploy the ensemble model, providing the input features and labels."
   ]
  },
  {
   "cell_type": "code",
   "execution_count": null,
   "id": "20",
   "metadata": {},
   "outputs": [],
   "source": [
    "deployed_ensemble_model = ensemble_model.deploy(\n",
    "    name=\"ensemble_model\", input=input_features, labels=label\n",
    ")"
   ]
  },
  {
   "cell_type": "markdown",
   "id": "21",
   "metadata": {},
   "source": [
    "## Evaluate the Ensemble Model\n",
    "We'll add a metric to evaluate the model and plot the results."
   ]
  },
  {
   "cell_type": "code",
   "execution_count": null,
   "id": "22",
   "metadata": {},
   "outputs": [],
   "source": [
    "# Add a metric to the deployed model\n",
    "deployed_ensemble_model.add_metric(\"WindowedRMSE\")\n",
    "\n",
    "# Retrieve the evaluation results\n",
    "model_rmse_scores = deployed_ensemble_model.get_evaluation(\"WindowedRMSE\")\n",
    "\n",
    "# Plot the RMSE scores\n",
    "plt.figure(figsize=(10, 6))\n",
    "plt.plot([score.metric for score in model_rmse_scores], label=\"Ensemble Model RMSE\")\n",
    "plt.xlabel(\"Time Steps\")\n",
    "plt.ylabel(\"RMSE\")\n",
    "plt.title(\"Ensemble Model Evaluation\")\n",
    "plt.legend()\n",
    "plt.show()"
   ]
  }
 ],
 "metadata": {
  "kernelspec": {
   "display_name": "Python 3 (ipykernel)",
   "language": "python",
   "name": "python3"
  },
  "language_info": {
   "codemirror_mode": {
    "name": "ipython",
    "version": 3
   },
   "file_extension": ".py",
   "mimetype": "text/x-python",
   "name": "python",
   "nbconvert_exporter": "python",
   "pygments_lexer": "ipython3",
   "version": "3.11.9"
  }
 },
 "nbformat": 4,
 "nbformat_minor": 5
}
