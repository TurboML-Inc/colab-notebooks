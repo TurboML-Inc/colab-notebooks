{
 "cells": [
  {
   "cell_type": "markdown",
   "id": "0",
   "metadata": {},
   "source": [
    "# Hyperparameter Tuning\n",
    "\n",
    "Hyperparameter Tuning uses grid search to scan through a given hyperparameter space for a model and find out the best combination of hyperparameters with respect to a given performance metric."
   ]
  },
  {
   "cell_type": "markdown",
   "id": "eca2c35e",
   "metadata": {},
   "source": [
    "Clone the repo with notebooks and corresponding data. "
   ]
  },
  {
   "cell_type": "code",
   "execution_count": null,
   "id": "f16be32c",
   "metadata": {},
   "outputs": [],
   "source": [
    "!git clone https://github.com/TurboML-Inc/colab-notebooks.git"
   ]
  },
  {
   "cell_type": "markdown",
   "id": "83a64481",
   "metadata": {},
   "source": [
    "Set up the environment and install TurboML's SDK. "
   ]
  },
  {
   "cell_type": "code",
   "execution_count": null,
   "id": "8550baa7",
   "metadata": {},
   "outputs": [],
   "source": [
    "!pip install -q condacolab\n",
    "import condacolab\n",
    "condacolab.install()\n",
    "!bash colab-notebooks/install_turboml.sh"
   ]
  },
  {
   "cell_type": "markdown",
   "id": "56ad31b7",
   "metadata": {},
   "source": [
    "The kernel should now be restarted with TurboML's SDK installed."
   ]
  },
  {
   "cell_type": "code",
   "execution_count": null,
   "id": "ee0dfa2a",
   "metadata": {},
   "outputs": [],
   "source": [
    "cd colab-notebooks"
   ]
  },
  {
   "cell_type": "markdown",
   "id": "d24eb2c5",
   "metadata": {},
   "source": [
    "Login to your TurboML instance."
   ]
  },
  {
   "cell_type": "code",
   "execution_count": null,
   "id": "b23b412b",
   "metadata": {},
   "outputs": [],
   "source": [
    "import pandas as pd\n",
    "import turboml as tb\n",
    "tb.init(backend_url=BACKEND_URL, api_key=API_KEY)\n",
    "from sklearn import metrics"
   ]
  },
  {
   "cell_type": "markdown",
   "id": "1",
   "metadata": {},
   "source": [
    "Importing the necessary modules and reading the dataset."
   ]
  },
  {
   "cell_type": "code",
   "execution_count": null,
   "id": "3",
   "metadata": {},
   "outputs": [],
   "source": [
    "transactions_df = pd.read_csv(\"data/transactions.csv\").reset_index()\n",
    "labels_df = pd.read_csv(\"data/labels.csv\").reset_index()"
   ]
  },
  {
   "cell_type": "markdown",
   "id": "4",
   "metadata": {},
   "source": [
    "## Dataset\n",
    "\n",
    "We use the `PandasDataset` class to create a dataset to be used for tuning.\n",
    "\n",
    "For this example, we use the first 100k rows."
   ]
  },
  {
   "cell_type": "code",
   "execution_count": null,
   "id": "5",
   "metadata": {},
   "outputs": [],
   "source": [
    "transactions_100k = tb.PandasDataset(\n",
    "    dataframe=transactions_df[:100000], key_field=\"index\", streaming=False\n",
    ")\n",
    "labels_100k = tb.PandasDataset(\n",
    "    dataframe=labels_df[:100000], key_field=\"index\", streaming=False\n",
    ")"
   ]
  },
  {
   "cell_type": "code",
   "execution_count": null,
   "id": "6",
   "metadata": {},
   "outputs": [],
   "source": [
    "numerical_fields = [\"transactionAmount\", \"localHour\"]\n",
    "categorical_fields = [\"digitalItemCount\", \"physicalItemCount\", \"isProxyIP\"]\n",
    "inputs = transactions_100k.get_input_fields(\n",
    "    numerical_fields=numerical_fields, categorical_fields=categorical_fields\n",
    ")\n",
    "label = labels_100k.get_label_field(label_field=\"is_fraud\")"
   ]
  },
  {
   "cell_type": "markdown",
   "id": "7",
   "metadata": {},
   "source": [
    "## Training/Tuning\n",
    "\n",
    "We will be using the `AdaBoost Classifier` with `Hoeffding Tree Classifier`  being the base model as an example."
   ]
  },
  {
   "cell_type": "code",
   "execution_count": null,
   "id": "8",
   "metadata": {},
   "outputs": [],
   "source": [
    "model_to_tune = tb.AdaBoostClassifier(\n",
    "    n_classes=2, base_model=tb.HoeffdingTreeClassifier(n_classes=2)\n",
    ")"
   ]
  },
  {
   "cell_type": "markdown",
   "id": "9",
   "metadata": {},
   "source": [
    "Since a particular model object can include other base models and PreProcessors as well, the `hyperparameter_tuning` function accepts a list of hyperparameter spaces for all such models as part of the `model` parameter, and tests all possible combinations across the different spaces.\n",
    "\n",
    "In this example, the first dictionary in the list corresponds to the hyperparameters of `AdaBoostClassifier` while the second dictionary is the hyperparameter space for the `HoeffdingTreeClassifier`. \n",
    "\n",
    "It is not necessary to include all possible hyperparameters in the space; default values are taken for those not specified "
   ]
  },
  {
   "cell_type": "code",
   "execution_count": null,
   "id": "10",
   "metadata": {},
   "outputs": [],
   "source": [
    "model_score_list = tb.hyperparameter_tuning(\n",
    "    metric_to_optimize=\"accuracy\",\n",
    "    model=model_to_tune,\n",
    "    hyperparameter_space=[\n",
    "        {\"n_models\": [2, 3]},\n",
    "        {\n",
    "            \"delta\": [1e-7, 1e-5, 1e-3],\n",
    "            \"tau\": [0.05, 0.01, 0.1],\n",
    "            \"grace_period\": [200, 100, 500],\n",
    "            \"n_classes\": [2],\n",
    "            \"leaf_pred_method\": [\"mc\"],\n",
    "            \"split_method\": [\"gini\", \"info_gain\", \"hellinger\"],\n",
    "        },\n",
    "    ],\n",
    "    input=inputs,\n",
    "    labels=label,\n",
    ")\n",
    "best_model, best_score = model_score_list[0]\n",
    "best_model"
   ]
  },
  {
   "cell_type": "code",
   "execution_count": null,
   "id": "11",
   "metadata": {},
   "outputs": [],
   "source": [
    "transactions_full = tb.PandasDataset(\n",
    "    dataframe=transactions_df, key_field=\"index\", streaming=False\n",
    ")\n",
    "features = transactions_full.get_input_fields(\n",
    "    numerical_fields=numerical_fields, categorical_fields=categorical_fields\n",
    ")\n",
    "\n",
    "outputs = best_model.predict(features)"
   ]
  },
  {
   "cell_type": "code",
   "execution_count": null,
   "id": "12",
   "metadata": {},
   "outputs": [],
   "source": [
    "print(\n",
    "    \"Accuracy: \",\n",
    "    metrics.accuracy_score(labels_df[\"is_fraud\"], outputs[\"predicted_class\"]),\n",
    ")\n",
    "print(\"F1: \", metrics.f1_score(labels_df[\"is_fraud\"], outputs[\"predicted_class\"]))"
   ]
  }
 ],
 "metadata": {
  "kernelspec": {
   "display_name": "Python 3 (ipykernel)",
   "language": "python",
   "name": "python3"
  },
  "language_info": {
   "codemirror_mode": {
    "name": "ipython",
    "version": 3
   },
   "file_extension": ".py",
   "mimetype": "text/x-python",
   "name": "python",
   "nbconvert_exporter": "python",
   "pygments_lexer": "ipython3",
   "version": "3.11.9"
  }
 },
 "nbformat": 4,
 "nbformat_minor": 5
}
