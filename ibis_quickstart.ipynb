{
 "cells": [
  {
   "cell_type": "markdown",
   "id": "0",
   "metadata": {},
   "source": [
    "# TurboML Ibis Quickstart"
   ]
  },
  {
   "cell_type": "markdown",
   "id": "8b518b33",
   "metadata": {},
   "source": [
    "Set up the environment and install TurboML's SDK. "
   ]
  },
  {
   "cell_type": "code",
   "execution_count": null,
   "id": "6bda4e07",
   "metadata": {},
   "outputs": [],
   "source": [
    "!pip install -q condacolab\n",
    "import condacolab\n",
    "condacolab.install()\n",
    "! conda install -qq conda-forge::libstdcxx-ng anaconda::protobuf\n",
    "! gdown -q 1UG8cmBLdYtEVJZG8Rgz454l722VAt_zE\n",
    "! unzip -qq turboml.zip -d turboml && pip install -qq turboml/*.whl && rm -rf turboml turboml.zip"
   ]
  },
  {
   "cell_type": "markdown",
   "id": "ac430bb1",
   "metadata": {},
   "source": [
    "Login to your TurboML instance."
   ]
  },
  {
   "cell_type": "code",
   "execution_count": null,
   "id": "ab1bac8a",
   "metadata": {},
   "outputs": [],
   "source": [
    "import pandas as pd\n",
    "import turboml as tb\n",
    "tb.init(backend_url=BACKEND_URL, api_key=API_KEY)\n",
    "import ibis"
   ]
  },
  {
   "cell_type": "code",
   "execution_count": null,
   "id": "2",
   "metadata": {},
   "outputs": [],
   "source": [
    "transactions_df = pd.read_csv(\"data/transactions.csv\").reset_index()\n",
    "labels_df = pd.read_csv(\"data/labels.csv\").reset_index()"
   ]
  },
  {
   "cell_type": "code",
   "execution_count": null,
   "id": "3",
   "metadata": {},
   "outputs": [],
   "source": [
    "transactions = tb.PandasDataset(\n",
    "    dataset_name=\"transactions_ibis\",\n",
    "    key_field=\"index\",\n",
    "    dataframe=transactions_df,\n",
    "    upload=True,\n",
    ")\n",
    "labels = tb.PandasDataset(\n",
    "    dataset_name=\"labels_ibis\", key_field=\"index\", dataframe=labels_df, upload=True\n",
    ")"
   ]
  },
  {
   "cell_type": "markdown",
   "id": "4",
   "metadata": {},
   "source": [
    "The following cells shows how to define features in ibis. The table parameter in the **create_ibis_features** function takes in the ibis expression to be used to prepare the feature."
   ]
  },
  {
   "cell_type": "code",
   "execution_count": null,
   "id": "5",
   "metadata": {},
   "outputs": [],
   "source": [
    "table = transactions.to_ibis()"
   ]
  },
  {
   "cell_type": "code",
   "execution_count": null,
   "id": "6",
   "metadata": {},
   "outputs": [],
   "source": [
    "@ibis.udf.scalar.python()\n",
    "def add_one(x: float) -> float:\n",
    "    return x + 1"
   ]
  },
  {
   "cell_type": "code",
   "execution_count": null,
   "id": "7",
   "metadata": {},
   "outputs": [],
   "source": [
    "table = table.mutate(updated_transaction_amount=add_one(table.transactionAmount))"
   ]
  },
  {
   "cell_type": "code",
   "execution_count": null,
   "id": "8",
   "metadata": {},
   "outputs": [],
   "source": [
    "agged = table.select(\n",
    "    total_transaction_amount=table.updated_transaction_amount.sum().over(\n",
    "        window=ibis.window(preceding=100, following=0, group_by=[table.index]),\n",
    "        order_by=table.timestamp,\n",
    "    ),\n",
    "    index=table.index,\n",
    "    is_potential_fraud=(\n",
    "        table.ipCountryCode != table.paymentBillingCountryCode.lower()\n",
    "    ).ifelse(1, 0),\n",
    "    ipCountryCode=table.ipCountryCode,\n",
    "    paymentBillingCountryCode=table.paymentBillingCountryCode,\n",
    ")"
   ]
  },
  {
   "cell_type": "code",
   "execution_count": null,
   "id": "9",
   "metadata": {},
   "outputs": [],
   "source": [
    "transactions.feature_engineering.create_ibis_features(agged)"
   ]
  },
  {
   "cell_type": "code",
   "execution_count": null,
   "id": "10",
   "metadata": {},
   "outputs": [],
   "source": [
    "transactions.feature_engineering.get_local_features()"
   ]
  },
  {
   "cell_type": "markdown",
   "id": "11",
   "metadata": {},
   "source": [
    "We need to tell the platform to start computations for all pending features for the given topic. This can be done by calling the **materialize_ibis_features** function. "
   ]
  },
  {
   "cell_type": "code",
   "execution_count": null,
   "id": "12",
   "metadata": {},
   "outputs": [],
   "source": [
    "transactions.feature_engineering.materialize_ibis_features()"
   ]
  },
  {
   "cell_type": "code",
   "execution_count": null,
   "id": "13",
   "metadata": {},
   "outputs": [],
   "source": [
    "model = tb.RCF(number_of_trees=50)"
   ]
  },
  {
   "cell_type": "code",
   "execution_count": null,
   "id": "14",
   "metadata": {},
   "outputs": [],
   "source": [
    "numerical_fields = [\"total_transaction_amount\", \"is_potential_fraud\"]\n",
    "features = transactions.get_input_fields(numerical_fields=numerical_fields)\n",
    "label = labels.get_label_field(label_field=\"is_fraud\")"
   ]
  },
  {
   "cell_type": "code",
   "execution_count": null,
   "id": "15",
   "metadata": {},
   "outputs": [],
   "source": [
    "deployed_model_rcf = model.deploy(name=\"demo_model_ibis\", input=features, labels=label)"
   ]
  },
  {
   "cell_type": "code",
   "execution_count": null,
   "id": "16",
   "metadata": {},
   "outputs": [],
   "source": [
    "outputs = deployed_model_rcf.get_outputs()"
   ]
  },
  {
   "cell_type": "code",
   "execution_count": null,
   "id": "17",
   "metadata": {},
   "outputs": [],
   "source": [
    "len(outputs)"
   ]
  },
  {
   "cell_type": "code",
   "execution_count": null,
   "id": "18",
   "metadata": {},
   "outputs": [],
   "source": [
    "sample_output = outputs[-1]\n",
    "sample_output"
   ]
  },
  {
   "cell_type": "code",
   "execution_count": null,
   "id": "19",
   "metadata": {},
   "outputs": [],
   "source": [
    "import matplotlib.pyplot as plt\n",
    "\n",
    "plt.plot([output[\"record\"].score for output in outputs])"
   ]
  },
  {
   "cell_type": "code",
   "execution_count": null,
   "id": "20",
   "metadata": {},
   "outputs": [],
   "source": [
    "model_endpoints = deployed_model_rcf.get_endpoints()\n",
    "model_endpoints"
   ]
  },
  {
   "cell_type": "code",
   "execution_count": null,
   "id": "21",
   "metadata": {},
   "outputs": [],
   "source": [
    "model_query_datapoint = (\n",
    "    transactions_df[[\"index\", \"ipCountryCode\", \"paymentBillingCountryCode\"]]\n",
    "    .iloc[-1]\n",
    "    .to_dict()\n",
    ")\n",
    "model_query_datapoint"
   ]
  },
  {
   "cell_type": "code",
   "execution_count": null,
   "id": "22",
   "metadata": {},
   "outputs": [],
   "source": [
    "import requests\n",
    "\n",
    "resp = requests.post(\n",
    "    model_endpoints[0], json=model_query_datapoint, headers=tb.common.api.headers\n",
    ")\n",
    "resp.json()"
   ]
  },
  {
   "cell_type": "markdown",
   "id": "23",
   "metadata": {},
   "source": [
    "#### Batch Inference on Models\n",
    "\n",
    "While the above method is more suited for individual requests, we can also perform batch inference on the models. We use the **get_inference** function for this purpose. "
   ]
  },
  {
   "cell_type": "code",
   "execution_count": null,
   "id": "24",
   "metadata": {},
   "outputs": [],
   "source": [
    "outputs = deployed_model_rcf.get_inference(transactions_df)\n",
    "outputs"
   ]
  }
 ],
 "metadata": {
  "kernelspec": {
   "display_name": "Python 3 (ipykernel)",
   "language": "python",
   "name": "python3"
  },
  "language_info": {
   "codemirror_mode": {
    "name": "ipython",
    "version": 3
   },
   "file_extension": ".py",
   "mimetype": "text/x-python",
   "name": "python",
   "nbconvert_exporter": "python",
   "pygments_lexer": "ipython3",
   "version": "3.11.9"
  }
 },
 "nbformat": 4,
 "nbformat_minor": 5
}
