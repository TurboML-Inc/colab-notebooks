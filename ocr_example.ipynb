{
 "cells": [
  {
   "cell_type": "markdown",
   "id": "0",
   "metadata": {},
   "source": [
    "# OCR example using RestAPI Client"
   ]
  },
  {
   "cell_type": "markdown",
   "id": "1",
   "metadata": {},
   "source": [
    "This example demonstrates using our REST API client for OCR processing."
   ]
  },
  {
   "cell_type": "markdown",
   "id": "dc1425df",
   "metadata": {},
   "source": [
    "Set up the environment and install TurboML's SDK. "
   ]
  },
  {
   "cell_type": "code",
   "execution_count": null,
   "id": "8f682675",
   "metadata": {},
   "outputs": [],
   "source": [
    "!pip install -q condacolab\n",
    "import condacolab\n",
    "condacolab.install()\n",
    "! conda install -qq conda-forge::libstdcxx-ng anaconda::protobuf\n",
    "! gdown -q 1UG8cmBLdYtEVJZG8Rgz454l722VAt_zE\n",
    "! unzip -qq turboml.zip -d turboml && pip install -qq turboml/*.whl && rm -rf turboml turboml.zip"
   ]
  },
  {
   "cell_type": "markdown",
   "id": "53662779",
   "metadata": {},
   "source": [
    "Login to your TurboML instance."
   ]
  },
  {
   "cell_type": "code",
   "execution_count": null,
   "id": "fa5a32d4",
   "metadata": {},
   "outputs": [],
   "source": [
    "import pandas as pd\n",
    "import turboml as tb\n",
    "tb.init(backend_url=BACKEND_URL, api_key=API_KEY)"
   ]
  },
  {
   "cell_type": "code",
   "execution_count": null,
   "id": "2",
   "metadata": {},
   "outputs": [],
   "source": [
    "!pip install surya-ocr"
   ]
  },
  {
   "cell_type": "code",
   "execution_count": null,
   "id": "3",
   "metadata": {},
   "outputs": [],
   "source": [
    "import os\n",
    "from PIL import Image"
   ]
  },
  {
   "cell_type": "markdown",
   "id": "4",
   "metadata": {},
   "source": [
    "### Launching our FastAPI application with OCR model from jupyter-notebook"
   ]
  },
  {
   "cell_type": "code",
   "execution_count": null,
   "id": "5",
   "metadata": {},
   "outputs": [],
   "source": [
    "import subprocess\n",
    "import threading\n",
    "\n",
    "\n",
    "def run_uvicorn_server(cmd, ready_event):\n",
    "    process = subprocess.Popen(\n",
    "        cmd,\n",
    "        shell=True,\n",
    "        stdout=subprocess.PIPE,\n",
    "        stderr=subprocess.STDOUT,\n",
    "        universal_newlines=True,\n",
    "    )\n",
    "    for line in process.stdout:\n",
    "        print(line, end=\"\")\n",
    "        # Check for the message indicating the server has started\n",
    "        if \"Uvicorn running on\" in line:\n",
    "            ready_event.set()\n",
    "    process.wait()\n",
    "\n",
    "\n",
    "cmd = \"uvicorn ocr_server_app:app --port 5379 --host 0.0.0.0\"\n",
    "\n",
    "server_ready_event = threading.Event()\n",
    "server_thread = threading.Thread(\n",
    "    target=run_uvicorn_server, args=(cmd, server_ready_event)\n",
    ")\n",
    "server_thread.start()"
   ]
  },
  {
   "cell_type": "markdown",
   "id": "6",
   "metadata": {},
   "source": [
    "### Loading a dataset of Images"
   ]
  },
  {
   "cell_type": "code",
   "execution_count": null,
   "id": "7",
   "metadata": {},
   "outputs": [],
   "source": [
    "import io\n",
    "import base64\n",
    "\n",
    "image_dir = \"./data/test_images/\"\n",
    "images_test = []\n",
    "labels_test = []\n",
    "widths_test = []\n",
    "heights_test = []\n",
    "\n",
    "for filename in os.listdir(image_dir):\n",
    "    if filename.lower().endswith((\".png\", \".jpg\", \".jpeg\", \".tiff\", \".bmp\", \".gif\")):\n",
    "        image_path = os.path.join(image_dir, filename)\n",
    "\n",
    "        # Open and process the image\n",
    "        with Image.open(image_path) as pil_image:\n",
    "            pil_image = pil_image.convert(\"RGB\")\n",
    "\n",
    "            # Get image dimensions\n",
    "            width, height = pil_image.size\n",
    "\n",
    "            # Save the image to a bytes buffer\n",
    "            img_byte_arr = io.BytesIO()\n",
    "            pil_image.save(img_byte_arr, format=\"JPEG\")\n",
    "            binary_image = img_byte_arr.getvalue()\n",
    "\n",
    "            # Encode the binary image data to base64\n",
    "            base64_image = base64.b64encode(binary_image).decode(\"utf-8\")\n",
    "\n",
    "        images_test.append(base64_image)\n",
    "        labels_test.append(0)  # Assigning a default label of 0\n",
    "        widths_test.append(width)\n",
    "        heights_test.append(height)\n",
    "\n",
    "image_dict_test = {\"images\": images_test, \"width\": widths_test, \"height\": heights_test}\n",
    "label_dict_test = {\"labels\": labels_test}\n",
    "image_df_test = pd.DataFrame(image_dict_test)\n",
    "label_df_test = pd.DataFrame(label_dict_test)\n",
    "image_df_test.reset_index(inplace=True)\n",
    "label_df_test.reset_index(inplace=True)\n",
    "\n",
    "print(f\"Processed {len(images_test)} images.\")\n",
    "print(f\"Image DataFrame shape: {image_df_test.shape}\")\n",
    "print(f\"Label DataFrame shape: {label_df_test.shape}\")"
   ]
  },
  {
   "cell_type": "code",
   "execution_count": null,
   "id": "8",
   "metadata": {},
   "outputs": [],
   "source": [
    "image_df_test = image_df_test.reset_index(drop=True)\n",
    "label_df_test = label_df_test.reset_index(drop=True)"
   ]
  },
  {
   "cell_type": "code",
   "execution_count": null,
   "id": "9",
   "metadata": {},
   "outputs": [],
   "source": [
    "images_train = tb.PandasDataset(\n",
    "    dataframe=image_df_test, key_field=\"index\", streaming=False\n",
    ")\n",
    "labels_train = tb.PandasDataset(\n",
    "    dataframe=label_df_test, key_field=\"index\", streaming=False\n",
    ")\n",
    "\n",
    "images_test = tb.PandasDataset(\n",
    "    dataframe=image_df_test, key_field=\"index\", streaming=False\n",
    ")\n",
    "labels_test = tb.PandasDataset(\n",
    "    dataframe=label_df_test, key_field=\"index\", streaming=False\n",
    ")"
   ]
  },
  {
   "cell_type": "code",
   "execution_count": null,
   "id": "10",
   "metadata": {},
   "outputs": [],
   "source": [
    "imaginal_fields = [\"images\"]\n",
    "categorical_fields = [\"width\", \"height\"]\n",
    "features_train = images_train.get_input_fields(\n",
    "    imaginal_fields=imaginal_fields, categorical_fields=categorical_fields\n",
    ")\n",
    "targets_train = labels_train.get_label_field(label_field=\"labels\")\n",
    "\n",
    "features_test = images_test.get_input_fields(\n",
    "    imaginal_fields=imaginal_fields, categorical_fields=categorical_fields\n",
    ")\n",
    "targets_test = labels_test.get_label_field(label_field=\"labels\")"
   ]
  },
  {
   "cell_type": "markdown",
   "id": "11",
   "metadata": {},
   "source": [
    "### Using TurboML to make a request to OCR Server"
   ]
  },
  {
   "cell_type": "code",
   "execution_count": null,
   "id": "12",
   "metadata": {},
   "outputs": [],
   "source": [
    "request_model = tb.RestAPIClient(\n",
    "    server_url=\"http://0.0.0.0:5379/predict\",\n",
    "    connection_timeout=10000,\n",
    "    max_request_time=10000,\n",
    "    max_retries=1,\n",
    ")"
   ]
  },
  {
   "cell_type": "code",
   "execution_count": null,
   "id": "13",
   "metadata": {},
   "outputs": [],
   "source": [
    "server_ready_event.wait(timeout=100)"
   ]
  },
  {
   "cell_type": "code",
   "execution_count": null,
   "id": "14",
   "metadata": {},
   "outputs": [],
   "source": [
    "model_trained = request_model.learn(features_train, targets_train)"
   ]
  },
  {
   "cell_type": "code",
   "execution_count": null,
   "id": "15",
   "metadata": {},
   "outputs": [],
   "source": [
    "outputs_test = model_trained.predict(features_test)"
   ]
  },
  {
   "cell_type": "code",
   "execution_count": null,
   "id": "16",
   "metadata": {},
   "outputs": [],
   "source": [
    "outputs_test"
   ]
  }
 ],
 "metadata": {
  "kernelspec": {
   "display_name": "Python 3 (ipykernel)",
   "language": "python",
   "name": "python3"
  },
  "language_info": {
   "codemirror_mode": {
    "name": "ipython",
    "version": 3
   },
   "file_extension": ".py",
   "mimetype": "text/x-python",
   "name": "python",
   "nbconvert_exporter": "python",
   "pygments_lexer": "ipython3",
   "version": "3.11.9"
  }
 },
 "nbformat": 4,
 "nbformat_minor": 5
}
